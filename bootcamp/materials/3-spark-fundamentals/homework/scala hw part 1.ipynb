{
 "cells": [
  {
   "cell_type": "code",
   "execution_count": 1,
   "id": "3178ce02-1abc-4484-8942-8b907231da6d",
   "metadata": {},
   "outputs": [
    {
     "data": {
      "text/plain": [
       "Intitializing Scala interpreter ..."
      ]
     },
     "metadata": {},
     "output_type": "display_data"
    },
    {
     "data": {
      "text/plain": [
       "Spark Web UI available at http://6f8bb373fc89:4042\n",
       "SparkContext available as 'sc' (version = 3.5.5, master = local[*], app id = local-1752420759823)\n",
       "SparkSession available as 'spark'\n"
      ]
     },
     "metadata": {},
     "output_type": "display_data"
    },
    {
     "data": {
      "text/plain": [
       "<console>:23: warning: a pure expression does nothing in statement position; multiline expressions may require enclosing parentheses\n",
       "       spark\n",
       "       ^\n",
       "import org.apache.spark.sql.SparkSession\n",
       "sparkSession: org.apache.spark.sql.SparkSession = org.apache.spark.sql.SparkSession@24cf1a91\n",
       "import org.apache.spark.sql.functions.{broadcast, split, lit}\n"
      ]
     },
     "execution_count": 1,
     "metadata": {},
     "output_type": "execute_result"
    }
   ],
   "source": [
    "spark\n",
    "import org.apache.spark.sql.SparkSession \n",
    "\n",
    "val sparkSession = SparkSession.builder.appName(\"Juptyer\").getOrCreate()\n",
    "\n",
    "import org.apache.spark.sql.functions.{broadcast, split, lit}"
   ]
  },
  {
   "cell_type": "code",
   "execution_count": 3,
   "id": "1b5c88e0-0d24-4fa7-b700-c82928b708a1",
   "metadata": {},
   "outputs": [],
   "source": [
    "// Disabled automatic broadcast join\n",
    "spark.conf.set(\"spark.sql.autoBroadcastJoinThreshold\", \"-1\")"
   ]
  },
  {
   "cell_type": "code",
   "execution_count": 5,
   "id": "7f38061d-7449-4703-a9fb-1ba8da0fa893",
   "metadata": {},
   "outputs": [
    {
     "data": {
      "text/plain": [
       "match_details: org.apache.spark.sql.DataFrame = [match_id: string, player_gamertag: string ... 34 more fields]\n",
       "matches: org.apache.spark.sql.DataFrame = [match_id: string, mapid: string ... 8 more fields]\n",
       "medals_matches_players: org.apache.spark.sql.DataFrame = [match_id: string, player_gamertag: string ... 2 more fields]\n",
       "medals: org.apache.spark.sql.DataFrame = [medal_id: bigint, sprite_uri: string ... 10 more fields]\n",
       "maps: org.apache.spark.sql.DataFrame = [mapid: string, name: string ... 1 more field]\n"
      ]
     },
     "execution_count": 5,
     "metadata": {},
     "output_type": "execute_result"
    }
   ],
   "source": [
    "// read data from csv into dataframe\n",
    "\n",
    "val match_details = spark.read.option(\"header\", \"true\")\n",
    "                        .option(\"inferSchema\", \"true\") \n",
    "                        .csv(\"/home/iceberg/data/match_details.csv\")\n",
    "\n",
    "val matches = spark.read.option(\"header\", \"true\") \n",
    "                        .option(\"inferSchema\", \"true\") \n",
    "                        .csv(\"/home/iceberg/data/matches.csv\")\n",
    "\n",
    "val medals_matches_players = spark.read.option(\"header\", \"true\") \n",
    "                        .option(\"inferSchema\", \"true\") \n",
    "                        .csv(\"/home/iceberg/data/medals_matches_players.csv\")\n",
    "\n",
    "val medals = spark.read.option(\"header\", \"true\") \n",
    "                        .option(\"inferSchema\", \"true\") \n",
    "                        .csv(\"/home/iceberg/data/medals.csv\")\n",
    "\n",
    "val maps = spark.read.option(\"header\", \"true\") \n",
    "                        .option(\"inferSchema\", \"true\") \n",
    "                        .csv(\"/home/iceberg/data/maps.csv\")"
   ]
  },
  {
   "cell_type": "code",
   "execution_count": 6,
   "id": "b6a3d3bc-3166-46e6-97d4-1d1cc8f04d63",
   "metadata": {},
   "outputs": [
    {
     "name": "stdout",
     "output_type": "stream",
     "text": [
      "+--------------------+---------------+-----+----------+--------------------+-----------+----------+------------------+-------------------+------------+-------------+-----------------+--------------------+--------+----------+\n",
      "|            match_id|player_gamertag|count|  medal_id|          sprite_uri|sprite_left|sprite_top|sprite_sheet_width|sprite_sheet_height|sprite_width|sprite_height|   classification|         description|    name|difficulty|\n",
      "+--------------------+---------------+-----+----------+--------------------+-----------+----------+------------------+-------------------+------------+-------------+-----------------+--------------------+--------+----------+\n",
      "|009fdac5-e15c-47c...|       EcZachly|    7|3261908037|https://content.h...|        375|       525|                74|                 74|        1125|          899|WeaponProficiency|Kill an opponent ...|Headshot|        60|\n",
      "+--------------------+---------------+-----+----------+--------------------+-----------+----------+------------------+-------------------+------------+-------------+-----------------+--------------------+--------+----------+\n",
      "only showing top 1 row\n",
      "\n",
      "+--------------------+--------------------+------------+--------------------+--------------------+-------------+-------------------+--------------+---------+--------------+--------------+--------------------+\n",
      "|            match_id|               mapid|is_team_game|         playlist_id|     game_variant_id|is_match_over|    completion_date|match_duration|game_mode|map_variant_id|      map_name|     map_description|\n",
      "+--------------------+--------------------+------------+--------------------+--------------------+-------------+-------------------+--------------+---------+--------------+--------------+--------------------+\n",
      "|11de1a94-8d07-416...|c7edbf0f-f206-11e...|        true|f72e0ef0-7c4a-430...|1e473914-46e4-408...|         true|2016-02-22 00:00:00|          NULL|     NULL|          NULL|Breakout Arena|The broadcast of ...|\n",
      "+--------------------+--------------------+------------+--------------------+--------------------+-------------+-------------------+--------------+---------+--------------+--------------+--------------------+\n",
      "only showing top 1 row\n",
      "\n"
     ]
    },
    {
     "data": {
      "text/plain": [
       "medals_matches_players_joined_medals: org.apache.spark.sql.DataFrame = [match_id: string, player_gamertag: string ... 13 more fields]\n",
       "matches_joined_maps: org.apache.spark.sql.DataFrame = [match_id: string, mapid: string ... 10 more fields]\n"
      ]
     },
     "execution_count": 6,
     "metadata": {},
     "output_type": "execute_result"
    }
   ],
   "source": [
    "// Explicitly broadcast JOINs medals and maps\n",
    "// medals\n",
    "val medals_matches_players_joined_medals = medals_matches_players.as(\"mmp\")\n",
    "    .join(broadcast(medals).as(\"me\"), $\"mmp.medal_id\" === $\"me.medal_id\")\n",
    "    .select($\"mmp.match_id\", $\"mmp.player_gamertag\", $\"mmp.count\", $\"me.*\")\n",
    "\n",
    "medals_matches_players_joined_medals.show(1)\n",
    "\n",
    "// maps\n",
    "val matches_joined_maps = matches.as(\"m\")\n",
    "    .join(broadcast(maps).as(\"mp\"), $\"m.mapid\" === $\"mp.mapid\")\n",
    "    .select($\"m.*\", $\"mp.name\".alias(\"map_name\"), $\"mp.description\".alias(\"map_description\"))\n",
    "\n",
    "matches_joined_maps.show(1)"
   ]
  },
  {
   "cell_type": "code",
   "execution_count": 7,
   "id": "3678c4cd-0005-4372-af8e-70b44a5f7350",
   "metadata": {},
   "outputs": [],
   "source": [
    "// match_details\n",
    "\n",
    "match_details.select(\n",
    "  $\"match_id\",\n",
    "  $\"player_gamertag\",\n",
    "  $\"previous_spartan_rank\",\n",
    "  $\"spartan_rank\",\n",
    "  $\"previous_total_xp\",\n",
    "  $\"total_xp\",\n",
    "  $\"previous_csr_tier\",\n",
    "  $\"previous_csr_designation\",\n",
    "  $\"previous_csr\",\n",
    "  $\"previous_csr_percent_to_next_tier\",\n",
    "  $\"previous_csr_rank\",\n",
    "  $\"current_csr_tier\",\n",
    "  $\"current_csr_designation\",\n",
    "  $\"current_csr\",\n",
    "  $\"current_csr_percent_to_next_tier\",\n",
    "  $\"current_csr_rank\",\n",
    "  $\"player_rank_on_team\",\n",
    "  $\"player_finished\",\n",
    "  $\"player_average_life\",\n",
    "  $\"player_total_kills\",\n",
    "  $\"player_total_headshots\",\n",
    "  $\"player_total_weapon_damage\",\n",
    "  $\"player_total_shots_landed\",\n",
    "  $\"player_total_melee_kills\",\n",
    "  $\"player_total_melee_damage\",\n",
    "  $\"player_total_assassinations\",\n",
    "  $\"player_total_ground_pound_kills\",\n",
    "  $\"player_total_shoulder_bash_kills\",\n",
    "  $\"player_total_grenade_damage\",\n",
    "  $\"player_total_power_weapon_damage\",\n",
    "  $\"player_total_power_weapon_grabs\",\n",
    "  $\"player_total_deaths\",\n",
    "  $\"player_total_assists\",\n",
    "  $\"player_total_grenade_kills\",\n",
    "  $\"did_win\",\n",
    "  $\"team_id\"\n",
    ").write\n",
    "  .mode(\"append\")\n",
    "  .bucketBy(16, \"match_id\")\n",
    "  .saveAsTable(\"bootcamp.match_details_bucketed\")"
   ]
  },
  {
   "cell_type": "code",
   "execution_count": 8,
   "id": "65b4f1ab-bdeb-4e91-a677-460a880c14cf",
   "metadata": {},
   "outputs": [],
   "source": [
    "// matches\n",
    "\n",
    "matches_joined_maps.select(\n",
    "  $\"match_id\",\n",
    "  $\"mapid\",\n",
    "  $\"is_team_game\",\n",
    "  $\"playlist_id\",\n",
    "  $\"game_variant_id\",\n",
    "  $\"is_match_over\",\n",
    "  $\"completion_date\",\n",
    "  $\"match_duration\",\n",
    "  $\"game_mode\",\n",
    "  $\"map_variant_id\",\n",
    "  $\"map_name\",\n",
    "  $\"map_description\"\n",
    ").write\n",
    "  .mode(\"append\")\n",
    "  .bucketBy(16, \"match_id\")\n",
    "  .saveAsTable(\"bootcamp.matches_bucketed\")"
   ]
  },
  {
   "cell_type": "code",
   "execution_count": 9,
   "id": "afd9d144-7ba5-4f98-b381-e2900f8602b1",
   "metadata": {},
   "outputs": [],
   "source": [
    "// medals_matches_players\n",
    "\n",
    "medals_matches_players_joined_medals.select(\n",
    "  $\"match_id\",\n",
    "  $\"player_gamertag\",\n",
    "  $\"count\",\n",
    "  $\"medal_id\",\n",
    "  $\"sprite_uri\",\n",
    "  $\"sprite_left\",\n",
    "  $\"sprite_top\",\n",
    "  $\"sprite_sheet_width\",\n",
    "  $\"sprite_sheet_height\",\n",
    "  $\"sprite_width\",\n",
    "  $\"sprite_height\",\n",
    "  $\"classification\",\n",
    "  $\"description\",\n",
    "  $\"name\",\n",
    "  $\"difficulty\"\n",
    ").write\n",
    "  .mode(\"append\")\n",
    "  .bucketBy(16, \"match_id\")\n",
    "  .saveAsTable(\"bootcamp.medals_matches_players_bucketed\")"
   ]
  },
  {
   "cell_type": "code",
   "execution_count": 11,
   "id": "240f72c7-5eb9-46f5-a847-7b683e1e1f8f",
   "metadata": {},
   "outputs": [
    {
     "name": "stdout",
     "output_type": "stream",
     "text": [
      "== Physical Plan ==\n",
      "AdaptiveSparkPlan isFinalPlan=false\n",
      "+- SortMergeJoin [match_id#905], [match_id#953], Inner\n",
      "   :- SortMergeJoin [match_id#905], [match_id#941], Inner\n",
      "   :  :- Sort [match_id#905 ASC NULLS FIRST], false, 0\n",
      "   :  :  +- Exchange hashpartitioning(match_id#905, 200), ENSURE_REQUIREMENTS, [plan_id=541]\n",
      "   :  :     +- BatchScan demo.bootcamp.match_details_bucketed[match_id#905, player_gamertag#906, previous_spartan_rank#907, spartan_rank#908, previous_total_xp#909, total_xp#910, previous_csr_tier#911, previous_csr_designation#912, previous_csr#913, previous_csr_percent_to_next_tier#914, previous_csr_rank#915, current_csr_tier#916, current_csr_designation#917, current_csr#918, current_csr_percent_to_next_tier#919, current_csr_rank#920, player_rank_on_team#921, player_finished#922, player_average_life#923, player_total_kills#924, player_total_headshots#925, player_total_weapon_damage#926, player_total_shots_landed#927, player_total_melee_kills#928, ... 12 more fields] demo.bootcamp.match_details_bucketed (branch=null) [filters=match_id IS NOT NULL, groupedBy=] RuntimeFilters: []\n",
      "   :  +- Sort [match_id#941 ASC NULLS FIRST], false, 0\n",
      "   :     +- Exchange hashpartitioning(match_id#941, 200), ENSURE_REQUIREMENTS, [plan_id=542]\n",
      "   :        +- BatchScan demo.bootcamp.matches_bucketed[match_id#941, mapid#942, is_team_game#943, playlist_id#944, game_variant_id#945, is_match_over#946, completion_date#947, match_duration#948, game_mode#949, map_variant_id#950, map_name#951, map_description#952] demo.bootcamp.matches_bucketed (branch=null) [filters=match_id IS NOT NULL, groupedBy=] RuntimeFilters: []\n",
      "   +- Sort [match_id#953 ASC NULLS FIRST], false, 0\n",
      "      +- Exchange hashpartitioning(match_id#953, 200), ENSURE_REQUIREMENTS, [plan_id=548]\n",
      "         +- BatchScan demo.bootcamp.medal_matches_players_bucketed[match_id#953, player_gamertag#954, count#955, medal_id#956L, sprite_uri#957, sprite_left#958, sprite_top#959, sprite_sheet_width#960, sprite_sheet_height#961, sprite_width#962, sprite_height#963, classification#964, description#965, name#966, difficulty#967] demo.bootcamp.medal_matches_players_bucketed (branch=null) [filters=match_id IS NOT NULL, groupedBy=] RuntimeFilters: []\n",
      "\n",
      "\n"
     ]
    }
   ],
   "source": [
    "// Bucket join match_details, matches, and medal_matches_players on match_id with 16 buckets\n",
    "\n",
    "spark.sql(\"\"\"\n",
    "    SELECT * \n",
    "    FROM bootcamp.match_details_bucketed mdb \n",
    "    JOIN bootcamp.matches_bucketed mb ON mdb.match_id = mb.match_id\n",
    "    JOIN bootcamp.medal_matches_players_bucketed mmp ON mdb.match_id = mmp.match_id       \n",
    "\"\"\").explain()"
   ]
  },
  {
   "cell_type": "code",
   "execution_count": null,
   "id": "0b0cb123-1468-425e-ae9e-dc2ae9bbde67",
   "metadata": {},
   "outputs": [],
   "source": []
  }
 ],
 "metadata": {
  "kernelspec": {
   "display_name": "spylon-kernel",
   "language": "scala",
   "name": "spylon-kernel"
  },
  "language_info": {
   "codemirror_mode": "text/x-scala",
   "file_extension": ".scala",
   "help_links": [
    {
     "text": "MetaKernel Magics",
     "url": "https://metakernel.readthedocs.io/en/latest/source/README.html"
    }
   ],
   "mimetype": "text/x-scala",
   "name": "scala",
   "pygments_lexer": "scala",
   "version": "0.4.1"
  }
 },
 "nbformat": 4,
 "nbformat_minor": 5
}
