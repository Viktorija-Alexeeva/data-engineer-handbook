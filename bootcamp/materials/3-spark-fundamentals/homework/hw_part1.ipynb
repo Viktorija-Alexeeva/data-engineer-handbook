{
 "cells": [
  {
   "cell_type": "code",
   "execution_count": null,
   "id": "facfa60f-bc1d-43f5-a8e6-9c7adb30ae53",
   "metadata": {},
   "outputs": [
    {
     "name": "stderr",
     "output_type": "stream",
     "text": [
      "25/07/13 12:21:54 WARN SparkSession: Using an existing Spark session; only runtime SQL configurations will take effect.\n"
     ]
    }
   ],
   "source": [
    "from pyspark.sql import SparkSession\n",
    "from pyspark.sql import functions as F\n",
    "from pyspark.sql.functions import expr, col, broadcast, split, lit\n",
    "spark = SparkSession.builder.appName(\"Jupyter\").getOrCreate()\n",
    "\n",
    "#Disabled automatic broadcast join\n",
    "spark.conf.set(\"spark.sql.autoBroadcastJoinThreshold\", \"-1\")\n",
    "\n",
    "spark.conf.set('spark.sql.sources.v2.bucketing.enabled','true') \n",
    "spark.conf.set('spark.sql.iceberg.planning.preserve-data-grouping','true')"
   ]
  },
  {
   "cell_type": "code",
   "execution_count": 3,
   "id": "d5661be1-acfc-4b53-99f8-27207ef65b40",
   "metadata": {},
   "outputs": [
    {
     "name": "stderr",
     "output_type": "stream",
     "text": [
      "                                                                                "
     ]
    }
   ],
   "source": [
    "# read data from csv into dataframe\n",
    "\n",
    "match_details = spark.read.option(\"header\", \"true\") \\\n",
    "                        .option(\"inferSchema\", \"true\") \\\n",
    "                        .csv(\"/home/iceberg/data/match_details.csv\")\n",
    "\n",
    "matches = spark.read.option(\"header\", \"true\") \\\n",
    "                        .option(\"inferSchema\", \"true\") \\\n",
    "                        .csv(\"/home/iceberg/data/matches.csv\")\n",
    "\n",
    "medals_matches_players = spark.read.option(\"header\", \"true\") \\\n",
    "                        .option(\"inferSchema\", \"true\") \\\n",
    "                        .csv(\"/home/iceberg/data/medals_matches_players.csv\")\n",
    "\n",
    "medals = spark.read.option(\"header\", \"true\") \\\n",
    "                        .option(\"inferSchema\", \"true\") \\\n",
    "                        .csv(\"/home/iceberg/data/medals.csv\")\n",
    "\n",
    "maps = spark.read.option(\"header\", \"true\") \\\n",
    "                        .option(\"inferSchema\", \"true\") \\\n",
    "                        .csv(\"/home/iceberg/data/maps.csv\")"
   ]
  },
  {
   "cell_type": "code",
   "execution_count": 5,
   "id": "300d1805-573d-432b-8452-b91d6d3f1b57",
   "metadata": {},
   "outputs": [
    {
     "name": "stdout",
     "output_type": "stream",
     "text": [
      "+--------------------+---------------+---------------------+------------+-----------------+--------+-----------------+------------------------+------------+---------------------------------+-----------------+----------------+-----------------------+-----------+--------------------------------+----------------+-------------------+---------------+-------------------+------------------+----------------------+--------------------------+-------------------------+------------------------+-------------------------+---------------------------+-------------------------------+--------------------------------+---------------------------+--------------------------------+-------------------------------+-------------------+--------------------+--------------------------+-------+-------+\n",
      "|            match_id|player_gamertag|previous_spartan_rank|spartan_rank|previous_total_xp|total_xp|previous_csr_tier|previous_csr_designation|previous_csr|previous_csr_percent_to_next_tier|previous_csr_rank|current_csr_tier|current_csr_designation|current_csr|current_csr_percent_to_next_tier|current_csr_rank|player_rank_on_team|player_finished|player_average_life|player_total_kills|player_total_headshots|player_total_weapon_damage|player_total_shots_landed|player_total_melee_kills|player_total_melee_damage|player_total_assassinations|player_total_ground_pound_kills|player_total_shoulder_bash_kills|player_total_grenade_damage|player_total_power_weapon_damage|player_total_power_weapon_grabs|player_total_deaths|player_total_assists|player_total_grenade_kills|did_win|team_id|\n",
      "+--------------------+---------------+---------------------+------------+-----------------+--------+-----------------+------------------------+------------+---------------------------------+-----------------+----------------+-----------------------+-----------+--------------------------------+----------------+-------------------+---------------+-------------------+------------------+----------------------+--------------------------+-------------------------+------------------------+-------------------------+---------------------------+-------------------------------+--------------------------------+---------------------------+--------------------------------+-------------------------------+-------------------+--------------------+--------------------------+-------+-------+\n",
      "|71d79b23-4143-435...|      taterbase|                    5|           5|            12537|   13383|                1|                       3|           0|                               98|             NULL|               2|                      3|          0|                              26|            NULL|                  4|          false|        PT14.81149S|                 6|                     4|                     255.0|                       28|                       0|                      0.0|                          0|                              0|                               0|                        0.0|                             0.0|                              0|                 13|                   1|                         0|      1|      1|\n",
      "+--------------------+---------------+---------------------+------------+-----------------+--------+-----------------+------------------------+------------+---------------------------------+-----------------+----------------+-----------------------+-----------+--------------------------------+----------------+-------------------+---------------+-------------------+------------------+----------------------+--------------------------+-------------------------+------------------------+-------------------------+---------------------------+-------------------------------+--------------------------------+---------------------------+--------------------------------+-------------------------------+-------------------+--------------------+--------------------------+-------+-------+\n",
      "only showing top 1 row\n",
      "\n",
      "+--------------------+--------------------+------------+--------------------+--------------------+-------------+-------------------+--------------+---------+--------------+\n",
      "|            match_id|               mapid|is_team_game|         playlist_id|     game_variant_id|is_match_over|    completion_date|match_duration|game_mode|map_variant_id|\n",
      "+--------------------+--------------------+------------+--------------------+--------------------+-------------+-------------------+--------------+---------+--------------+\n",
      "|11de1a94-8d07-416...|c7edbf0f-f206-11e...|        true|f72e0ef0-7c4a-430...|1e473914-46e4-408...|         true|2016-02-22 00:00:00|          NULL|     NULL|          NULL|\n",
      "+--------------------+--------------------+------------+--------------------+--------------------+-------------+-------------------+--------------+---------+--------------+\n",
      "only showing top 1 row\n",
      "\n",
      "+--------------------+---------------+----------+-----+\n",
      "|            match_id|player_gamertag|  medal_id|count|\n",
      "+--------------------+---------------+----------+-----+\n",
      "|009fdac5-e15c-47c...|       EcZachly|3261908037|    7|\n",
      "+--------------------+---------------+----------+-----+\n",
      "only showing top 1 row\n",
      "\n",
      "+----------+----------+-----------+----------+------------------+-------------------+------------+-------------+--------------+-----------+----+----------+\n",
      "|  medal_id|sprite_uri|sprite_left|sprite_top|sprite_sheet_width|sprite_sheet_height|sprite_width|sprite_height|classification|description|name|difficulty|\n",
      "+----------+----------+-----------+----------+------------------+-------------------+------------+-------------+--------------+-----------+----+----------+\n",
      "|2315448068|      NULL|       NULL|      NULL|              NULL|               NULL|        NULL|         NULL|          NULL|       NULL|NULL|      NULL|\n",
      "+----------+----------+-----------+----------+------------------+-------------------+------------+-------------+--------------+-----------+----+----------+\n",
      "only showing top 1 row\n",
      "\n",
      "+--------------------+-----+--------------------+\n",
      "|               mapid| name|         description|\n",
      "+--------------------+-----+--------------------+\n",
      "|c93d708f-f206-11e...|Urban|Andesia was the c...|\n",
      "+--------------------+-----+--------------------+\n",
      "only showing top 1 row\n",
      "\n"
     ]
    }
   ],
   "source": [
    "# show data from df\n",
    "match_details.show(1)\n",
    "matches.show(1)\n",
    "medals_matches_players.show(1)\n",
    "medals.show(1)\n",
    "maps.show(1)"
   ]
  },
  {
   "cell_type": "code",
   "execution_count": 24,
   "id": "aa6175e1-1313-4855-be53-2645635d4290",
   "metadata": {},
   "outputs": [
    {
     "name": "stdout",
     "output_type": "stream",
     "text": [
      "+--------------------+---------------+-----+----------+--------------------+-----------+----------+------------------+-------------------+------------+-------------+-----------------+--------------------+--------+----------+\n",
      "|            match_id|player_gamertag|count|  medal_id|          sprite_uri|sprite_left|sprite_top|sprite_sheet_width|sprite_sheet_height|sprite_width|sprite_height|   classification|         description|    name|difficulty|\n",
      "+--------------------+---------------+-----+----------+--------------------+-----------+----------+------------------+-------------------+------------+-------------+-----------------+--------------------+--------+----------+\n",
      "|009fdac5-e15c-47c...|       EcZachly|    7|3261908037|https://content.h...|        375|       525|                74|                 74|        1125|          899|WeaponProficiency|Kill an opponent ...|Headshot|        60|\n",
      "+--------------------+---------------+-----+----------+--------------------+-----------+----------+------------------+-------------------+------------+-------------+-----------------+--------------------+--------+----------+\n",
      "only showing top 1 row\n",
      "\n",
      "+--------------------+--------------------+------------+--------------------+--------------------+-------------+-------------------+--------------+---------+--------------+--------------+--------------------+\n",
      "|            match_id|               mapid|is_team_game|         playlist_id|     game_variant_id|is_match_over|    completion_date|match_duration|game_mode|map_variant_id|      map_name|     map_description|\n",
      "+--------------------+--------------------+------------+--------------------+--------------------+-------------+-------------------+--------------+---------+--------------+--------------+--------------------+\n",
      "|11de1a94-8d07-416...|c7edbf0f-f206-11e...|        true|f72e0ef0-7c4a-430...|1e473914-46e4-408...|         true|2016-02-22 00:00:00|          NULL|     NULL|          NULL|Breakout Arena|The broadcast of ...|\n",
      "+--------------------+--------------------+------------+--------------------+--------------------+-------------+-------------------+--------------+---------+--------------+--------------+--------------------+\n",
      "only showing top 1 row\n",
      "\n"
     ]
    }
   ],
   "source": [
    "# Explicitly broadcast JOINs medals and maps\n",
    "# medals\n",
    "medals_matches_players_joined_medals = medals_matches_players.alias(\"mmp\") \\\n",
    "    .join(broadcast(medals).alias(\"me\"), col(\"mmp.medal_id\") == col(\"me.medal_id\")) \\\n",
    "    .select(\"mmp.match_id\", \"mmp.player_gamertag\", \"mmp.count\", \"me.*\") \n",
    "\n",
    "medals_matches_players_joined_medals.show(1)\n",
    "\n",
    "# maps\n",
    "matches_joined_maps = matches.alias(\"m\") \\\n",
    "    .join(broadcast(maps).alias(\"mp\"), col(\"m.mapid\") == col(\"mp.mapid\")) \\\n",
    "    .select(\"m.*\", col(\"mp.name\").alias(\"map_name\"), col(\"description\").alias(\"map_description\"))\n",
    "\n",
    "matches_joined_maps.show(1)\n"
   ]
  },
  {
   "cell_type": "code",
   "execution_count": 25,
   "id": "7a820db6-f1ff-4cd7-807a-2d13c5be39ec",
   "metadata": {},
   "outputs": [
    {
     "name": "stdout",
     "output_type": "stream",
     "text": [
      "root\n",
      " |-- match_id: string (nullable = true)\n",
      " |-- player_gamertag: string (nullable = true)\n",
      " |-- count: integer (nullable = true)\n",
      " |-- medal_id: long (nullable = true)\n",
      " |-- sprite_uri: string (nullable = true)\n",
      " |-- sprite_left: integer (nullable = true)\n",
      " |-- sprite_top: integer (nullable = true)\n",
      " |-- sprite_sheet_width: integer (nullable = true)\n",
      " |-- sprite_sheet_height: integer (nullable = true)\n",
      " |-- sprite_width: integer (nullable = true)\n",
      " |-- sprite_height: integer (nullable = true)\n",
      " |-- classification: string (nullable = true)\n",
      " |-- description: string (nullable = true)\n",
      " |-- name: string (nullable = true)\n",
      " |-- difficulty: integer (nullable = true)\n",
      "\n"
     ]
    }
   ],
   "source": [
    "medals_matches_players_joined_medals.printSchema()"
   ]
  },
  {
   "cell_type": "code",
   "execution_count": 26,
   "id": "b7c1f5a8-ac06-4315-bfe0-16eb1443280a",
   "metadata": {},
   "outputs": [
    {
     "name": "stderr",
     "output_type": "stream",
     "text": [
      "                                                                                "
     ]
    }
   ],
   "source": [
    "# match_details\n",
    "\n",
    "# create iceberg table match_details_bucketed\n",
    "spark.sql(\"\"\"DROP TABLE IF EXISTS bootcamp.match_details_bucketed\"\"\")\n",
    "spark.sql(\"\"\"\n",
    "CREATE TABLE IF NOT EXISTS bootcamp.match_details_bucketed (\n",
    "     match_id string, \n",
    "     player_gamertag string ,\n",
    "     previous_spartan_rank integer ,\n",
    "     spartan_rank integer ,\n",
    "     previous_total_xp integer ,\n",
    "     total_xp integer ,\n",
    "     previous_csr_tier integer ,\n",
    "     previous_csr_designation integer ,\n",
    "     previous_csr integer ,\n",
    "     previous_csr_percent_to_next_tier integer ,\n",
    "     previous_csr_rank integer ,\n",
    "     current_csr_tier integer,\n",
    "     current_csr_designation integer ,\n",
    "     current_csr integer ,\n",
    "     current_csr_percent_to_next_tier integer ,\n",
    "     current_csr_rank integer ,\n",
    "     player_rank_on_team integer ,\n",
    "     player_finished boolean ,\n",
    "     player_average_life string ,\n",
    "     player_total_kills integer ,\n",
    "     player_total_headshots integer ,\n",
    "     player_total_weapon_damage double ,\n",
    "     player_total_shots_landed integer,\n",
    "     player_total_melee_kills integer ,\n",
    "     player_total_melee_damage double ,\n",
    "     player_total_assassinations integer ,\n",
    "     player_total_ground_pound_kills integer ,\n",
    "     player_total_shoulder_bash_kills integer ,\n",
    "     player_total_grenade_damage double ,\n",
    "     player_total_power_weapon_damage double ,\n",
    "     player_total_power_weapon_grabs integer ,\n",
    "     player_total_deaths integer ,\n",
    "     player_total_assists integer ,\n",
    "     player_total_grenade_kills integer ,\n",
    "     did_win integer ,\n",
    "     team_id integer \n",
    " )\n",
    " USING iceberg\n",
    " PARTITIONED BY (bucket(16, match_id));\n",
    " \"\"\")\n",
    "\n",
    "# insert into match_details_bucketed from df match_details\n",
    "match_details.writeTo(\"bootcamp.match_details_bucketed\") \\\n",
    "    .append()\n"
   ]
  },
  {
   "cell_type": "code",
   "execution_count": 27,
   "id": "76dedbf0-1aa6-4cda-b985-811bb1393507",
   "metadata": {},
   "outputs": [],
   "source": [
    "# matches_joined_maps\n",
    "\n",
    "# create iceberg table matches_bucketed\n",
    "spark.sql(\"\"\"DROP TABLE IF EXISTS bootcamp.matches_bucketed\"\"\")\n",
    "spark.sql(\"\"\"\n",
    "CREATE TABLE IF NOT EXISTS bootcamp.matches_bucketed (\n",
    "     match_id string ,\n",
    "     mapid string ,\n",
    "     is_team_game boolean ,\n",
    "     playlist_id string ,\n",
    "     game_variant_id string ,\n",
    "     is_match_over boolean ,\n",
    "     completion_date timestamp ,\n",
    "     match_duration string ,\n",
    "     game_mode string ,\n",
    "     map_variant_id string ,\n",
    "     map_name string ,\n",
    "     map_description string \n",
    " )\n",
    " USING iceberg\n",
    " PARTITIONED BY (bucket(16, match_id));\n",
    " \"\"\")\n",
    "\n",
    "# insert into matches_bucketed from df matches_joined_maps\n",
    "matches_joined_maps.writeTo(\"bootcamp.matches_bucketed\") \\\n",
    "    .append()\n"
   ]
  },
  {
   "cell_type": "code",
   "execution_count": 28,
   "id": "d1c24dd0-675e-4436-8493-aeb183bad95a",
   "metadata": {},
   "outputs": [
    {
     "name": "stderr",
     "output_type": "stream",
     "text": [
      "                                                                                "
     ]
    }
   ],
   "source": [
    "# medals_matches_players_joined_medals\n",
    "\n",
    "# create iceberg table medal_matches_players_bucketed\n",
    "spark.sql(\"\"\"DROP TABLE IF EXISTS bootcamp.medal_matches_players_bucketed\"\"\")\n",
    "spark.sql(\"\"\"\n",
    "CREATE TABLE IF NOT EXISTS bootcamp.medal_matches_players_bucketed (\n",
    "     match_id string ,\n",
    "     player_gamertag string ,\n",
    "     count integer ,\n",
    "     medal_id long ,\n",
    "     sprite_uri string ,\n",
    "     sprite_left integer ,\n",
    "     sprite_top integer ,\n",
    "     sprite_sheet_width integer ,\n",
    "     sprite_sheet_height integer ,\n",
    "     sprite_width integer ,\n",
    "     sprite_height integer ,\n",
    "     classification string ,\n",
    "     description string ,\n",
    "     name string ,\n",
    "     difficulty integer \n",
    " )\n",
    " USING iceberg\n",
    " PARTITIONED BY (bucket(16, match_id));\n",
    " \"\"\")\n",
    "\n",
    "# insert into medal_matches_players_bucketed from df medals_matches_players_joined_medals\n",
    "medals_matches_players_joined_medals.writeTo(\"bootcamp.medal_matches_players_bucketed\") \\\n",
    "    .append()\n"
   ]
  },
  {
   "cell_type": "code",
   "execution_count": 30,
   "id": "cde64b8d-5bd9-4d7b-88ca-b40c0f5fc660",
   "metadata": {},
   "outputs": [],
   "source": [
    "# spark.conf.set(\"spark.sql.optimizer.bucketing.enabled\", \"true\")"
   ]
  },
  {
   "cell_type": "code",
   "execution_count": 10,
   "id": "c11227f2-ce51-4361-87b3-2c5ac97a1cb8",
   "metadata": {},
   "outputs": [],
   "source": [
    "# Bucket join match_details, matches_joined_maps, and medals_matches_players_joined_medals on match_id with 16 buckets\n",
    "# join data from iceberg tables \n",
    "joined_df = spark.sql(\"\"\"\n",
    "    SELECT mdb.match_id,\n",
    "        mdb.player_gamertag,\n",
    "        mdb.previous_spartan_rank,\n",
    "        mdb.spartan_rank,\n",
    "        mdb.previous_total_xp,\n",
    "        mdb.total_xp,\n",
    "        mdb.previous_csr_tier,\n",
    "        mdb.previous_csr_designation,\n",
    "        mdb.previous_csr,\n",
    "        mdb.previous_csr_percent_to_next_tier,\n",
    "        mdb.previous_csr_rank,\n",
    "        mdb.current_csr_tier,\n",
    "        mdb.current_csr_designation,\n",
    "        mdb.current_csr,\n",
    "        mdb.current_csr_percent_to_next_tier,\n",
    "        mdb.current_csr_rank,\n",
    "        mdb.player_rank_on_team,\n",
    "        mdb.player_finished,\n",
    "        mdb.player_average_life,\n",
    "        mdb.player_total_kills,\n",
    "        mdb.player_total_headshots,\n",
    "        mdb.player_total_weapon_damage,\n",
    "        mdb.player_total_shots_landed,\n",
    "        mdb.player_total_melee_kills,\n",
    "        mdb.player_total_melee_damage,\n",
    "        mdb.player_total_assassinations,\n",
    "        mdb.player_total_ground_pound_kills,\n",
    "        mdb.player_total_shoulder_bash_kills,\n",
    "        mdb.player_total_grenade_damage,\n",
    "        mdb.player_total_power_weapon_damage,\n",
    "        mdb.player_total_power_weapon_grabs,\n",
    "        mdb.player_total_deaths,\n",
    "        mdb.player_total_assists,\n",
    "        mdb.player_total_grenade_kills,\n",
    "        mdb.did_win,\n",
    "        mdb.team_id,\n",
    "\n",
    "        mb.mapid,\n",
    "        mb.is_team_game,\n",
    "        mb.playlist_id,\n",
    "        mb.game_variant_id,\n",
    "        mb.is_match_over,\n",
    "        mb.completion_date,\n",
    "        mb.match_duration,\n",
    "        mb.game_mode,\n",
    "        mb.map_variant_id,\n",
    "        mb.map_name,\n",
    "        mb.map_description,\n",
    "\n",
    "        mmp.count,\n",
    "        mmp.medal_id,\n",
    "        mmp.sprite_uri,\n",
    "        mmp.sprite_left,\n",
    "        mmp.sprite_top,\n",
    "        mmp.sprite_sheet_width,\n",
    "        mmp.sprite_sheet_height,\n",
    "        mmp.sprite_width,\n",
    "        mmp.sprite_height,\n",
    "        mmp.classification,\n",
    "        mmp.description,\n",
    "        mmp.name,\n",
    "        mmp.difficulty\n",
    "    FROM bootcamp.match_details_bucketed mdb \n",
    "    JOIN bootcamp.matches_bucketed mb \n",
    "        ON mdb.match_id = mb.match_id\n",
    "    JOIN bootcamp.medal_matches_players_bucketed mmp \n",
    "        ON mdb.match_id = mmp.match_id AND mdb.player_gamertag = mmp.player_gamertag  \n",
    "\"\"\")"
   ]
  },
  {
   "cell_type": "code",
   "execution_count": 12,
   "id": "95f644fb-c396-40b5-a6fc-df080911aa96",
   "metadata": {},
   "outputs": [
    {
     "name": "stdout",
     "output_type": "stream",
     "text": [
      "== Physical Plan ==\n",
      "AdaptiveSparkPlan isFinalPlan=false\n",
      "+- Project [match_id#2032, player_gamertag#2033, previous_spartan_rank#2034, spartan_rank#2035, previous_total_xp#2036, total_xp#2037, previous_csr_tier#2038, previous_csr_designation#2039, previous_csr#2040, previous_csr_percent_to_next_tier#2041, previous_csr_rank#2042, current_csr_tier#2043, current_csr_designation#2044, current_csr#2045, current_csr_percent_to_next_tier#2046, current_csr_rank#2047, player_rank_on_team#2048, player_finished#2049, player_average_life#2050, player_total_kills#2051, player_total_headshots#2052, player_total_weapon_damage#2053, player_total_shots_landed#2054, player_total_melee_kills#2055, ... 36 more fields]\n",
      "   +- SortMergeJoin [match_id#2032, player_gamertag#2033], [match_id#2080, player_gamertag#2081], Inner\n",
      "      :- Sort [match_id#2032 ASC NULLS FIRST, player_gamertag#2033 ASC NULLS FIRST], false, 0\n",
      "      :  +- Exchange hashpartitioning(match_id#2032, player_gamertag#2033, 200), ENSURE_REQUIREMENTS, [plan_id=815]\n",
      "      :     +- Project [match_id#2032, player_gamertag#2033, previous_spartan_rank#2034, spartan_rank#2035, previous_total_xp#2036, total_xp#2037, previous_csr_tier#2038, previous_csr_designation#2039, previous_csr#2040, previous_csr_percent_to_next_tier#2041, previous_csr_rank#2042, current_csr_tier#2043, current_csr_designation#2044, current_csr#2045, current_csr_percent_to_next_tier#2046, current_csr_rank#2047, player_rank_on_team#2048, player_finished#2049, player_average_life#2050, player_total_kills#2051, player_total_headshots#2052, player_total_weapon_damage#2053, player_total_shots_landed#2054, player_total_melee_kills#2055, ... 23 more fields]\n",
      "      :        +- BroadcastHashJoin [match_id#2032], [match_id#2068], Inner, BuildRight, false\n",
      "      :           :- Filter isnotnull(player_gamertag#2033)\n",
      "      :           :  +- BatchScan demo.bootcamp.match_details_bucketed[match_id#2032, player_gamertag#2033, previous_spartan_rank#2034, spartan_rank#2035, previous_total_xp#2036, total_xp#2037, previous_csr_tier#2038, previous_csr_designation#2039, previous_csr#2040, previous_csr_percent_to_next_tier#2041, previous_csr_rank#2042, current_csr_tier#2043, current_csr_designation#2044, current_csr#2045, current_csr_percent_to_next_tier#2046, current_csr_rank#2047, player_rank_on_team#2048, player_finished#2049, player_average_life#2050, player_total_kills#2051, player_total_headshots#2052, player_total_weapon_damage#2053, player_total_shots_landed#2054, player_total_melee_kills#2055, ... 12 more fields] demo.bootcamp.match_details_bucketed (branch=null) [filters=match_id IS NOT NULL, player_gamertag IS NOT NULL, groupedBy=] RuntimeFilters: []\n",
      "      :           +- BroadcastExchange HashedRelationBroadcastMode(List(input[0, string, true]),false), [plan_id=810]\n",
      "      :              +- BatchScan demo.bootcamp.matches_bucketed[match_id#2068, mapid#2069, is_team_game#2070, playlist_id#2071, game_variant_id#2072, is_match_over#2073, completion_date#2074, match_duration#2075, game_mode#2076, map_variant_id#2077, map_name#2078, map_description#2079] demo.bootcamp.matches_bucketed (branch=null) [filters=match_id IS NOT NULL, groupedBy=] RuntimeFilters: []\n",
      "      +- Sort [match_id#2080 ASC NULLS FIRST, player_gamertag#2081 ASC NULLS FIRST], false, 0\n",
      "         +- Exchange hashpartitioning(match_id#2080, player_gamertag#2081, 200), ENSURE_REQUIREMENTS, [plan_id=816]\n",
      "            +- Filter isnotnull(player_gamertag#2081)\n",
      "               +- BatchScan demo.bootcamp.medal_matches_players_bucketed[match_id#2080, player_gamertag#2081, count#2082, medal_id#2083L, sprite_uri#2084, sprite_left#2085, sprite_top#2086, sprite_sheet_width#2087, sprite_sheet_height#2088, sprite_width#2089, sprite_height#2090, classification#2091, description#2092, name#2093, difficulty#2094] demo.bootcamp.medal_matches_players_bucketed (branch=null) [filters=match_id IS NOT NULL, player_gamertag IS NOT NULL, groupedBy=] RuntimeFilters: []\n",
      "\n",
      "\n"
     ]
    }
   ],
   "source": [
    "joined_df.explain()"
   ]
  },
  {
   "cell_type": "code",
   "execution_count": 11,
   "id": "c20590b4-ad2e-4601-9eb8-569149d4e93c",
   "metadata": {},
   "outputs": [
    {
     "name": "stdout",
     "output_type": "stream",
     "text": [
      "root\n",
      " |-- match_id: string (nullable = true)\n",
      " |-- player_gamertag: string (nullable = true)\n",
      " |-- previous_spartan_rank: integer (nullable = true)\n",
      " |-- spartan_rank: integer (nullable = true)\n",
      " |-- previous_total_xp: integer (nullable = true)\n",
      " |-- total_xp: integer (nullable = true)\n",
      " |-- previous_csr_tier: integer (nullable = true)\n",
      " |-- previous_csr_designation: integer (nullable = true)\n",
      " |-- previous_csr: integer (nullable = true)\n",
      " |-- previous_csr_percent_to_next_tier: integer (nullable = true)\n",
      " |-- previous_csr_rank: integer (nullable = true)\n",
      " |-- current_csr_tier: integer (nullable = true)\n",
      " |-- current_csr_designation: integer (nullable = true)\n",
      " |-- current_csr: integer (nullable = true)\n",
      " |-- current_csr_percent_to_next_tier: integer (nullable = true)\n",
      " |-- current_csr_rank: integer (nullable = true)\n",
      " |-- player_rank_on_team: integer (nullable = true)\n",
      " |-- player_finished: boolean (nullable = true)\n",
      " |-- player_average_life: string (nullable = true)\n",
      " |-- player_total_kills: integer (nullable = true)\n",
      " |-- player_total_headshots: integer (nullable = true)\n",
      " |-- player_total_weapon_damage: double (nullable = true)\n",
      " |-- player_total_shots_landed: integer (nullable = true)\n",
      " |-- player_total_melee_kills: integer (nullable = true)\n",
      " |-- player_total_melee_damage: double (nullable = true)\n",
      " |-- player_total_assassinations: integer (nullable = true)\n",
      " |-- player_total_ground_pound_kills: integer (nullable = true)\n",
      " |-- player_total_shoulder_bash_kills: integer (nullable = true)\n",
      " |-- player_total_grenade_damage: double (nullable = true)\n",
      " |-- player_total_power_weapon_damage: double (nullable = true)\n",
      " |-- player_total_power_weapon_grabs: integer (nullable = true)\n",
      " |-- player_total_deaths: integer (nullable = true)\n",
      " |-- player_total_assists: integer (nullable = true)\n",
      " |-- player_total_grenade_kills: integer (nullable = true)\n",
      " |-- did_win: integer (nullable = true)\n",
      " |-- team_id: integer (nullable = true)\n",
      " |-- mapid: string (nullable = true)\n",
      " |-- is_team_game: boolean (nullable = true)\n",
      " |-- playlist_id: string (nullable = true)\n",
      " |-- game_variant_id: string (nullable = true)\n",
      " |-- is_match_over: boolean (nullable = true)\n",
      " |-- completion_date: timestamp (nullable = true)\n",
      " |-- match_duration: string (nullable = true)\n",
      " |-- game_mode: string (nullable = true)\n",
      " |-- map_variant_id: string (nullable = true)\n",
      " |-- map_name: string (nullable = true)\n",
      " |-- map_description: string (nullable = true)\n",
      " |-- count: integer (nullable = true)\n",
      " |-- medal_id: long (nullable = true)\n",
      " |-- sprite_uri: string (nullable = true)\n",
      " |-- sprite_left: integer (nullable = true)\n",
      " |-- sprite_top: integer (nullable = true)\n",
      " |-- sprite_sheet_width: integer (nullable = true)\n",
      " |-- sprite_sheet_height: integer (nullable = true)\n",
      " |-- sprite_width: integer (nullable = true)\n",
      " |-- sprite_height: integer (nullable = true)\n",
      " |-- classification: string (nullable = true)\n",
      " |-- description: string (nullable = true)\n",
      " |-- name: string (nullable = true)\n",
      " |-- difficulty: integer (nullable = true)\n",
      "\n"
     ]
    }
   ],
   "source": [
    "joined_df.printSchema()"
   ]
  },
  {
   "cell_type": "code",
   "execution_count": null,
   "id": "f0a3c866-c042-43f7-b59c-6ca883e6998e",
   "metadata": {},
   "outputs": [],
   "source": [
    "# Aggregate the joined data frame to figure out questions like:"
   ]
  },
  {
   "cell_type": "code",
   "execution_count": 16,
   "id": "f12cc79c-f626-4dd7-82e2-5bc882167bcb",
   "metadata": {},
   "outputs": [
    {
     "name": "stderr",
     "output_type": "stream",
     "text": [
      "[Stage 29:>                                                         (0 + 8) / 8]"
     ]
    },
    {
     "name": "stdout",
     "output_type": "stream",
     "text": [
      "+---------------+------------------+\n",
      "|player_gamertag|avg_kills_per_game|\n",
      "+---------------+------------------+\n",
      "|   gimpinator14|             109.0|\n",
      "+---------------+------------------+\n",
      "only showing top 1 row\n",
      "\n"
     ]
    },
    {
     "name": "stderr",
     "output_type": "stream",
     "text": [
      "                                                                                "
     ]
    }
   ],
   "source": [
    "# Which player averages the most kills per game?\n",
    "\n",
    "most_kills_per_game = joined_df.groupBy(\"player_gamertag\") \\\n",
    "    .agg(F.avg(\"player_total_kills\").alias(\"avg_kills_per_game\")) \\\n",
    "    .orderBy(F.desc(\"avg_kills_per_game\"))\n",
    "\n",
    "\n",
    "most_kills_per_game.show(1)"
   ]
  },
  {
   "cell_type": "code",
   "execution_count": 17,
   "id": "38ab8573-dce3-41f9-8acc-32988ee83327",
   "metadata": {},
   "outputs": [
    {
     "name": "stderr",
     "output_type": "stream",
     "text": [
      "[Stage 39:=======>                                                  (1 + 7) / 8]"
     ]
    },
    {
     "name": "stdout",
     "output_type": "stream",
     "text": [
      "+--------------------+-------------+\n",
      "|         playlist_id|total_matches|\n",
      "+--------------------+-------------+\n",
      "|f72e0ef0-7c4a-430...|         7640|\n",
      "+--------------------+-------------+\n",
      "only showing top 1 row\n",
      "\n"
     ]
    },
    {
     "name": "stderr",
     "output_type": "stream",
     "text": [
      "                                                                                "
     ]
    }
   ],
   "source": [
    "# Which playlist gets played the most?\n",
    "\n",
    "most_played_playlists = joined_df.select(\"match_id\", \"playlist_id\").dropDuplicates() \\\n",
    "    .groupBy(\"playlist_id\") \\\n",
    "    .agg(F.count(\"*\").alias(\"total_matches\")) \\\n",
    "    .orderBy(F.desc(\"total_matches\"))\n",
    "\n",
    "most_played_playlists.show(1)"
   ]
  },
  {
   "cell_type": "code",
   "execution_count": 18,
   "id": "c69ff41a-f8b6-4d28-924a-21833b9df439",
   "metadata": {},
   "outputs": [
    {
     "name": "stderr",
     "output_type": "stream",
     "text": [
      "[Stage 54:=============================>                            (4 + 4) / 8]"
     ]
    },
    {
     "name": "stdout",
     "output_type": "stream",
     "text": [
      "+--------------+-------------+\n",
      "|      map_name|total_matches|\n",
      "+--------------+-------------+\n",
      "|Breakout Arena|         7032|\n",
      "+--------------+-------------+\n",
      "only showing top 1 row\n",
      "\n"
     ]
    },
    {
     "name": "stderr",
     "output_type": "stream",
     "text": [
      "                                                                                "
     ]
    }
   ],
   "source": [
    "# Which map gets played the most?\n",
    "\n",
    "most_played_maps = joined_df.select(\"match_id\", \"map_name\").dropDuplicates() \\\n",
    "    .groupBy(\"map_name\") \\\n",
    "    .agg(F.count(\"*\").alias(\"total_matches\")) \\\n",
    "    .orderBy(F.desc(\"total_matches\"))\n",
    "\n",
    "most_played_maps.show(1)"
   ]
  },
  {
   "cell_type": "code",
   "execution_count": 19,
   "id": "e31f666d-df1f-44ba-b8fa-fad18f5d7cf8",
   "metadata": {},
   "outputs": [
    {
     "name": "stderr",
     "output_type": "stream",
     "text": [
      "25/07/13 17:45:10 WARN DataSourceV2Strategy: Can't translate true to source filter, unsupported expression\n",
      "                                                                                "
     ]
    },
    {
     "name": "stdout",
     "output_type": "stream",
     "text": [
      "+--------------+--------------------------+\n",
      "|      map_name|total_killing_spree_medals|\n",
      "+--------------+--------------------------+\n",
      "|Breakout Arena|                     26952|\n",
      "+--------------+--------------------------+\n",
      "only showing top 1 row\n",
      "\n"
     ]
    }
   ],
   "source": [
    "# Which map do players get the most Killing Spree medals on?\n",
    "\n",
    "killing_spree_by_map = joined_df.filter(F.col(\"name\") == \"Killing Spree\") \\\n",
    "    .groupBy(\"map_name\") \\\n",
    "    .agg(F.sum(\"count\").alias(\"total_killing_spree_medals\")) \\\n",
    "    .orderBy(F.desc(\"total_killing_spree_medals\"))\n",
    "\n",
    "killing_spree_by_map.show(1)"
   ]
  },
  {
   "cell_type": "code",
   "execution_count": 22,
   "id": "7a1ea8bb-4c94-4b62-bfef-2bf76a247a3f",
   "metadata": {},
   "outputs": [],
   "source": []
  },
  {
   "cell_type": "code",
   "execution_count": 23,
   "id": "9506aec0-e92a-4995-971c-b9c5aef2f6a8",
   "metadata": {},
   "outputs": [
    {
     "name": "stderr",
     "output_type": "stream",
     "text": [
      "                                                                                "
     ]
    },
    {
     "name": "stdout",
     "output_type": "stream",
     "text": [
      "+--------+---------+------------------+\n",
      "|    size|num_files|        table_name|\n",
      "+--------+---------+------------------+\n",
      "|38331349|        9|df_sorted_playlist|\n",
      "|38782215|        9|     df_sorted_map|\n",
      "+--------+---------+------------------+\n",
      "\n"
     ]
    }
   ],
   "source": [
    "# Try different .sortWithinPartitions to see which has the smallest data size\n",
    "\n",
    "playlist_sort_df = joined_df.sortWithinPartitions(col(\"playlist_id\"))\n",
    "playlist_sort_df.write.mode(\"overwrite\").saveAsTable(\"bootcamp.df_sorted_playlist\")\n",
    "\n",
    "map_sort_df = joined_df.sortWithinPartitions(col(\"map_name\"))\n",
    "map_sort_df.write.mode(\"overwrite\").saveAsTable(\"bootcamp.df_sorted_map\")\n",
    "\n",
    "\n",
    "query = \"\"\"\n",
    "SELECT SUM(file_size_in_bytes) as size, COUNT(1) as num_files, 'df_sorted_playlist' as table_name\n",
    "FROM demo.bootcamp.df_sorted_playlist.files\n",
    "\n",
    "UNION ALL\n",
    "\n",
    "SELECT SUM(file_size_in_bytes) as size, COUNT(1) as num_files, 'df_sorted_map' as table_name\n",
    "FROM demo.bootcamp.df_sorted_map.files\n",
    "\"\"\"\n",
    "\n",
    "result_df = spark.sql(query)\n",
    "result_df.show()"
   ]
  },
  {
   "cell_type": "code",
   "execution_count": null,
   "id": "ece9bc63-0697-4072-b693-0ca5e224b9d7",
   "metadata": {},
   "outputs": [],
   "source": []
  }
 ],
 "metadata": {
  "kernelspec": {
   "display_name": "Python 3 (ipykernel)",
   "language": "python",
   "name": "python3"
  },
  "language_info": {
   "codemirror_mode": {
    "name": "ipython",
    "version": 3
   },
   "file_extension": ".py",
   "mimetype": "text/x-python",
   "name": "python",
   "nbconvert_exporter": "python",
   "pygments_lexer": "ipython3",
   "version": "3.10.16"
  }
 },
 "nbformat": 4,
 "nbformat_minor": 5
}
